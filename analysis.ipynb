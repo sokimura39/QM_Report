{
 "cells": [
  {
   "cell_type": "markdown",
   "metadata": {},
   "source": [
    "# The analysis for journey data\n",
    "\n",
    "## An analysis for the cycle hire data\n",
    "\n",
    "We will consider the influence of multiple factors of the physical environment on the number of travels"
   ]
  },
  {
   "cell_type": "code",
   "execution_count": 1,
   "metadata": {},
   "outputs": [],
   "source": [
    "# load libraries\n",
    "\n",
    "import os\n",
    "import csv\n",
    "import json\n",
    "import urllib.request\n",
    "from requests import get\n",
    "\n",
    "import pandas as pd\n",
    "import geopandas as gpd\n",
    "import rasterio\n",
    "import rasterio.plot\n",
    "\n",
    "import scipy.stats\n",
    "import matplotlib.pyplot as plt\n"
   ]
  },
  {
   "cell_type": "code",
   "execution_count": 2,
   "metadata": {},
   "outputs": [],
   "source": [
    "# set path\n",
    "points_path = os.path.join('data', 'cycles', 'points')\n",
    "points_fn = 'BikePoints.geojson'\n",
    "points_parquet_fn = 'docking_stations.geoparquet'\n",
    "journeys_path = os.path.join('data', 'cycles', 'journeys')\n",
    "journeys_gdf_fn = 'journeys_gdf.geoparquet'\n",
    "journeys_df_fn = 'journeys_df.csv'\n",
    "elevation_path = os.path.join('data', 'elevation', 'london_elevation.tif')\n",
    "geom_path = os.path.join('data', 'London_geometry')\n",
    "lsoa_fn = 'LSOA_2011_London_gen_MHW.shp'\n",
    "cc_fn = 'CentralUltraLowEmissionZone.gpkg'"
   ]
  },
  {
   "cell_type": "code",
   "execution_count": 3,
   "metadata": {},
   "outputs": [],
   "source": [
    "# load data\n",
    "journeys_gdf = gpd.read_parquet(os.path.join(journeys_path, journeys_gdf_fn))"
   ]
  },
  {
   "cell_type": "code",
   "execution_count": null,
   "metadata": {},
   "outputs": [],
   "source": [
    "journeys_df = pd.read_csv(os.path.join(journeys_path, journeys_df_fn))"
   ]
  },
  {
   "cell_type": "markdown",
   "metadata": {},
   "source": [
    "## Basic analysis of the data\n",
    "\n",
    "First, looking at the characteristics of the dataset."
   ]
  },
  {
   "cell_type": "code",
   "execution_count": 4,
   "metadata": {},
   "outputs": [
    {
     "data": {
      "text/plain": [
       "Number                          int64\n",
       "Start date             datetime64[ns]\n",
       "Start station                  object\n",
       "End date               datetime64[ns]\n",
       "End station                    object\n",
       "Bike number                     int64\n",
       "Bike model                   category\n",
       "Total duration (ms)             int64\n",
       "start_id                       object\n",
       "start_name                     object\n",
       "start_ports                    object\n",
       "start_location                 object\n",
       "start_zone                     object\n",
       "start_height                  float32\n",
       "start_LSOA11CD                 object\n",
       "start_LSOA11NM                 object\n",
       "start_cc_zone                    bool\n",
       "end_id                         object\n",
       "end_name                       object\n",
       "end_ports                      object\n",
       "end_location                   object\n",
       "end_zone                       object\n",
       "end_height                    float32\n",
       "end_LSOA11CD                   object\n",
       "end_LSOA11NM                   object\n",
       "end_cc_zone                      bool\n",
       "geometry                     geometry\n",
       "height_diff                   float32\n",
       "distance                      float64\n",
       "dtype: object"
      ]
     },
     "execution_count": 4,
     "metadata": {},
     "output_type": "execute_result"
    }
   ],
   "source": [
    "# clean data\n",
    "\n",
    "# convert dates into datetime format\n",
    "dates = ['Start date', 'End date']\n",
    "for d in dates:\n",
    "    journeys_gdf[d] = pd.to_datetime(journeys_gdf[d], format = '%Y-%m-%d %H:%M')\n",
    "\n",
    "# convert bike model into categories\n",
    "journeys_gdf['Bike model'] = journeys_gdf['Bike model'].astype('category')\n",
    "\n",
    "# remove total duration\n",
    "journeys_gdf = journeys_gdf.drop('Total duration', axis = 1)\n",
    "\n",
    "journeys_gdf.dtypes"
   ]
  },
  {
   "cell_type": "code",
   "execution_count": 5,
   "metadata": {},
   "outputs": [],
   "source": [
    "# filter by start date\n",
    "journeys_gdf = journeys_gdf[journeys_gdf['Start date'] >= '2022-12-01'].copy()"
   ]
  },
  {
   "cell_type": "code",
   "execution_count": 6,
   "metadata": {},
   "outputs": [
    {
     "data": {
      "text/plain": [
       "count    8.414631e+06\n",
       "mean    -2.199563e-01\n",
       "std      9.165493e+00\n",
       "min     -4.387600e+01\n",
       "25%     -4.115751e+00\n",
       "50%      0.000000e+00\n",
       "75%      3.755500e+00\n",
       "max      4.387600e+01\n",
       "Name: height_diff, dtype: float64"
      ]
     },
     "execution_count": 6,
     "metadata": {},
     "output_type": "execute_result"
    }
   ],
   "source": [
    "journeys_gdf.height_diff.describe()"
   ]
  },
  {
   "cell_type": "code",
   "execution_count": 7,
   "metadata": {},
   "outputs": [
    {
     "data": {
      "text/plain": [
       "<Axes: xlabel='Start date,Start date'>"
      ]
     },
     "execution_count": 7,
     "metadata": {},
     "output_type": "execute_result"
    },
    {
     "data": {
      "image/png": "[encoded data removed]",
      "text/plain": [
       "<Figure size 640x480 with 1 Axes>"
      ]
     },
     "metadata": {},
     "output_type": "display_data"
    }
   ],
   "source": [
    "# draw bar chart by month\n",
    "journeys_gdf.groupby([journeys_gdf['Start date'].dt.year, journeys_gdf['Start date'].dt.month]).Number.count().plot(kind = 'bar')"
   ]
  },
  {
   "cell_type": "code",
   "execution_count": 8,
   "metadata": {},
   "outputs": [
    {
     "data": {
      "text/plain": [
       "-0.21995632"
      ]
     },
     "execution_count": 8,
     "metadata": {},
     "output_type": "execute_result"
    }
   ],
   "source": [
    "# calculate mean of height distance\n",
    "journeys_gdf.height_diff.mean()"
   ]
  },
  {
   "cell_type": "code",
   "execution_count": 9,
   "metadata": {},
   "outputs": [
    {
     "data": {
      "image/png": "[encoded data removed]",
      "text/plain": [
       "<Figure size 640x480 with 1 Axes>"
      ]
     },
     "metadata": {},
     "output_type": "display_data"
    }
   ],
   "source": [
    "# draw histogram of height distance\n",
    "\n",
    "# set up plot\n",
    "fig, ax = plt.subplots(1, 1)\n",
    "\n",
    "# add histogram\n",
    "ax.hist(\n",
    "    journeys_gdf.height_diff,\n",
    "    bins = 81\n",
    ")\n",
    "\n",
    "# set limits\n",
    "ax.set_xlim(-40.5, 40.5)\n",
    "\n",
    "plt.show()\n"
   ]
  },
  {
   "cell_type": "code",
   "execution_count": 10,
   "metadata": {},
   "outputs": [
    {
     "data": {
      "text/plain": [
       "-0.22877766"
      ]
     },
     "execution_count": 10,
     "metadata": {},
     "output_type": "execute_result"
    }
   ],
   "source": [
    "journeys_gdf[journeys_gdf['Start station'] != journeys_gdf['End station']].height_diff.mean()"
   ]
  },
  {
   "cell_type": "code",
   "execution_count": 11,
   "metadata": {},
   "outputs": [
    {
     "data": {
      "text/plain": [
       "TtestResult(statistic=-69.61426590290411, pvalue=0.0, df=8414630)"
      ]
     },
     "execution_count": 11,
     "metadata": {},
     "output_type": "execute_result"
    }
   ],
   "source": [
    "scipy.stats.ttest_1samp(journeys_gdf.height_diff, popmean = 0)"
   ]
  },
  {
   "cell_type": "markdown",
   "metadata": {},
   "source": [
    "### The average height difference\n",
    "\n",
    "The average of the height difference is -0.22 m. From the one sample T-test, the null hypothesis of average being 0 is rejected, and is statistically significant, concluding that on average the shared cycles are used more downhill than uphill."
   ]
  },
  {
   "cell_type": "code",
   "execution_count": 12,
   "metadata": {},
   "outputs": [
    {
     "data": {
      "text/plain": [
       "(array([1.443276e+06, 2.202603e+06, 1.763172e+06, 1.216677e+06,\n",
       "        7.556930e+05, 4.513590e+05, 2.545110e+05, 1.445900e+05,\n",
       "        8.518200e+04, 4.782000e+04, 2.491700e+04, 1.258100e+04,\n",
       "        6.461000e+03, 2.777000e+03, 1.500000e+03, 9.490000e+02,\n",
       "        3.900000e+02, 1.320000e+02, 3.600000e+01, 5.000000e+00]),\n",
       " array([    0.        ,   858.53878817,  1717.07757635,  2575.61636452,\n",
       "         3434.15515269,  4292.69394087,  5151.23272904,  6009.77151721,\n",
       "         6868.31030539,  7726.84909356,  8585.38788174,  9443.92666991,\n",
       "        10302.46545808, 11161.00424626, 12019.54303443, 12878.0818226 ,\n",
       "        13736.62061078, 14595.15939895, 15453.69818712, 16312.2369753 ,\n",
       "        17170.77576347]),\n",
       " <BarContainer object of 20 artists>)"
      ]
     },
     "execution_count": 12,
     "metadata": {},
     "output_type": "execute_result"
    },
    {
     "data": {
      "image/png": "[encoded data removed]",
      "text/plain": [
       "<Figure size 640x480 with 1 Axes>"
      ]
     },
     "metadata": {},
     "output_type": "display_data"
    }
   ],
   "source": [
    "# draw scatter plot\n",
    "\n",
    "plt.hist(journeys_gdf['distance'], bins = 20)\n"
   ]
  },
  {
   "cell_type": "code",
   "execution_count": 13,
   "metadata": {},
   "outputs": [],
   "source": [
    "# calculate average speed\n",
    "journeys_gdf['ave_speed'] = journeys_gdf['distance'] / journeys_gdf['Total duration (ms)'] * 1000"
   ]
  },
  {
   "cell_type": "markdown",
   "metadata": {},
   "source": [
    "## Consider the bike types\n",
    "\n",
    "The 2 types of bikes existing may make a difference."
   ]
  },
  {
   "cell_type": "code",
   "execution_count": 14,
   "metadata": {},
   "outputs": [
    {
     "name": "stderr",
     "output_type": "stream",
     "text": [
      "C:\\Users\\Soki\\AppData\\Local\\Temp\\ipykernel_30308\\924047236.py:2: FutureWarning: The default of observed=False is deprecated and will be changed to True in a future version of pandas. Pass observed=False to retain current behavior or observed=True to adopt the future default and silence this warning.\n",
      "  journeys_gdf.groupby(by = 'Bike model').distance.describe()\n"
     ]
    },
    {
     "data": {
      "text/html": [
       "<div>\n",
       "<style scoped>\n",
       "    .dataframe tbody tr th:only-of-type {\n",
       "        vertical-align: middle;\n",
       "    }\n",
       "\n",
       "    .dataframe tbody tr th {\n",
       "        vertical-align: top;\n",
       "    }\n",
       "\n",
       "    .dataframe thead th {\n",
       "        text-align: right;\n",
       "    }\n",
       "</style>\n",
       "<table border=\"1\" class=\"dataframe\">\n",
       "  <thead>\n",
       "    <tr style=\"text-align: right;\">\n",
       "      <th></th>\n",
       "      <th>count</th>\n",
       "      <th>mean</th>\n",
       "      <th>std</th>\n",
       "      <th>min</th>\n",
       "      <th>25%</th>\n",
       "      <th>50%</th>\n",
       "      <th>75%</th>\n",
       "      <th>max</th>\n",
       "    </tr>\n",
       "    <tr>\n",
       "      <th>Bike model</th>\n",
       "      <th></th>\n",
       "      <th></th>\n",
       "      <th></th>\n",
       "      <th></th>\n",
       "      <th></th>\n",
       "      <th></th>\n",
       "      <th></th>\n",
       "      <th></th>\n",
       "    </tr>\n",
       "  </thead>\n",
       "  <tbody>\n",
       "    <tr>\n",
       "      <th>CLASSIC</th>\n",
       "      <td>7808234.0</td>\n",
       "      <td>2279.410865</td>\n",
       "      <td>1656.945009</td>\n",
       "      <td>0.0</td>\n",
       "      <td>1085.307181</td>\n",
       "      <td>1906.495847</td>\n",
       "      <td>3087.379142</td>\n",
       "      <td>17170.775763</td>\n",
       "    </tr>\n",
       "    <tr>\n",
       "      <th>PBSC_EBIKE</th>\n",
       "      <td>606397.0</td>\n",
       "      <td>3124.616509</td>\n",
       "      <td>2014.003074</td>\n",
       "      <td>0.0</td>\n",
       "      <td>1651.065859</td>\n",
       "      <td>2757.887126</td>\n",
       "      <td>4181.514950</td>\n",
       "      <td>16682.920172</td>\n",
       "    </tr>\n",
       "  </tbody>\n",
       "</table>\n",
       "</div>"
      ],
      "text/plain": [
       "                count         mean          std  min          25%  \\\n",
       "Bike model                                                          \n",
       "CLASSIC     7808234.0  2279.410865  1656.945009  0.0  1085.307181   \n",
       "PBSC_EBIKE   606397.0  3124.616509  2014.003074  0.0  1651.065859   \n",
       "\n",
       "                    50%          75%           max  \n",
       "Bike model                                          \n",
       "CLASSIC     1906.495847  3087.379142  17170.775763  \n",
       "PBSC_EBIKE  2757.887126  4181.514950  16682.920172  "
      ]
     },
     "execution_count": 14,
     "metadata": {},
     "output_type": "execute_result"
    }
   ],
   "source": [
    "# compare the distances\n",
    "journeys_gdf.groupby(by = 'Bike model').distance.describe()"
   ]
  },
  {
   "cell_type": "code",
   "execution_count": 15,
   "metadata": {},
   "outputs": [
    {
     "name": "stderr",
     "output_type": "stream",
     "text": [
      "C:\\Users\\Soki\\AppData\\Local\\Temp\\ipykernel_30308\\699735221.py:2: FutureWarning: The default of observed=False is deprecated and will be changed to True in a future version of pandas. Pass observed=False to retain current behavior or observed=True to adopt the future default and silence this warning.\n",
      "  journeys_gdf.groupby(by = 'Bike model').height_diff.describe()\n"
     ]
    },
    {
     "data": {
      "text/html": [
       "<div>\n",
       "<style scoped>\n",
       "    .dataframe tbody tr th:only-of-type {\n",
       "        vertical-align: middle;\n",
       "    }\n",
       "\n",
       "    .dataframe tbody tr th {\n",
       "        vertical-align: top;\n",
       "    }\n",
       "\n",
       "    .dataframe thead th {\n",
       "        text-align: right;\n",
       "    }\n",
       "</style>\n",
       "<table border=\"1\" class=\"dataframe\">\n",
       "  <thead>\n",
       "    <tr style=\"text-align: right;\">\n",
       "      <th></th>\n",
       "      <th>count</th>\n",
       "      <th>mean</th>\n",
       "      <th>std</th>\n",
       "      <th>min</th>\n",
       "      <th>25%</th>\n",
       "      <th>50%</th>\n",
       "      <th>75%</th>\n",
       "      <th>max</th>\n",
       "    </tr>\n",
       "    <tr>\n",
       "      <th>Bike model</th>\n",
       "      <th></th>\n",
       "      <th></th>\n",
       "      <th></th>\n",
       "      <th></th>\n",
       "      <th></th>\n",
       "      <th></th>\n",
       "      <th></th>\n",
       "      <th></th>\n",
       "    </tr>\n",
       "  </thead>\n",
       "  <tbody>\n",
       "    <tr>\n",
       "      <th>CLASSIC</th>\n",
       "      <td>7808234.0</td>\n",
       "      <td>-0.231310</td>\n",
       "      <td>9.00606</td>\n",
       "      <td>-43.875999</td>\n",
       "      <td>-3.996001</td>\n",
       "      <td>0.0</td>\n",
       "      <td>3.60825</td>\n",
       "      <td>43.875999</td>\n",
       "    </tr>\n",
       "    <tr>\n",
       "      <th>PBSC_EBIKE</th>\n",
       "      <td>606397.0</td>\n",
       "      <td>-0.073767</td>\n",
       "      <td>11.01310</td>\n",
       "      <td>-43.214748</td>\n",
       "      <td>-6.377500</td>\n",
       "      <td>0.0</td>\n",
       "      <td>6.23700</td>\n",
       "      <td>43.779247</td>\n",
       "    </tr>\n",
       "  </tbody>\n",
       "</table>\n",
       "</div>"
      ],
      "text/plain": [
       "                count      mean       std        min       25%  50%      75%  \\\n",
       "Bike model                                                                     \n",
       "CLASSIC     7808234.0 -0.231310   9.00606 -43.875999 -3.996001  0.0  3.60825   \n",
       "PBSC_EBIKE   606397.0 -0.073767  11.01310 -43.214748 -6.377500  0.0  6.23700   \n",
       "\n",
       "                  max  \n",
       "Bike model             \n",
       "CLASSIC     43.875999  \n",
       "PBSC_EBIKE  43.779247  "
      ]
     },
     "execution_count": 15,
     "metadata": {},
     "output_type": "execute_result"
    }
   ],
   "source": [
    "# compare the height difference\n",
    "journeys_gdf.groupby(by = 'Bike model').height_diff.describe()"
   ]
  },
  {
   "cell_type": "code",
   "execution_count": 16,
   "metadata": {},
   "outputs": [
    {
     "data": {
      "image/png": "[encoded data removed]",
      "text/plain": [
       "<Figure size 640x480 with 2 Axes>"
      ]
     },
     "metadata": {},
     "output_type": "display_data"
    }
   ],
   "source": [
    "# set up plot\n",
    "fig, axes = plt.subplots(1, 2)\n",
    "\n",
    "# add histogram for classic cycles\n",
    "axes[0].hist(\n",
    "    journeys_gdf[journeys_gdf['Bike model'] == 'CLASSIC'].height_diff,\n",
    "    bins = 81\n",
    ")\n",
    "\n",
    "# add histogram for ebikes\n",
    "axes[1].hist(\n",
    "    journeys_gdf[journeys_gdf['Bike model'] == 'PBSC_EBIKE'].height_diff,\n",
    "    bins = 81\n",
    ")\n",
    "\n",
    "\n",
    "# set limits\n",
    "for ax in axes:\n",
    "    ax.set_xlim(-40.5, 40.5)\n",
    "\n",
    "plt.show()"
   ]
  },
  {
   "cell_type": "code",
   "execution_count": 17,
   "metadata": {},
   "outputs": [
    {
     "data": {
      "text/plain": [
       "TtestResult(statistic=-12.893918258674379, pvalue=4.874543134223036e-38, df=8414629.0)"
      ]
     },
     "execution_count": 17,
     "metadata": {},
     "output_type": "execute_result"
    }
   ],
   "source": [
    "# conduct t-test\n",
    "\n",
    "\n",
    "scipy.stats.ttest_ind(\n",
    "    journeys_gdf[journeys_gdf['Bike model'] == 'CLASSIC'].height_diff,\n",
    "    journeys_gdf[journeys_gdf['Bike model'] == 'PBSC_EBIKE'].height_diff\n",
    ")"
   ]
  },
  {
   "cell_type": "code",
   "execution_count": 33,
   "metadata": {},
   "outputs": [
    {
     "name": "stderr",
     "output_type": "stream",
     "text": [
      "C:\\Users\\Soki\\AppData\\Local\\Temp\\ipykernel_30308\\2833050082.py:3: FutureWarning: The default of observed=False is deprecated and will be changed to True in a future version of pandas. Pass observed=False to retain current behavior or observed=True to adopt the future default and silence this warning.\n",
      "  od_df = journeys_gdf.groupby(['start_id', 'end_id', 'Bike model']).Number.count().reset_index()\n"
     ]
    }
   ],
   "source": [
    "# OD analysis\n",
    "\n",
    "od_df = journeys_gdf.groupby(['start_id', 'end_id', 'Bike model']).Number.count().reset_index()"
   ]
  },
  {
   "cell_type": "code",
   "execution_count": 84,
   "metadata": {},
   "outputs": [
    {
     "data": {
      "text/plain": [
       "117"
      ]
     },
     "execution_count": 84,
     "metadata": {},
     "output_type": "execute_result"
    }
   ],
   "source": [
    "len(journeys_gdf.start_zone.unique())"
   ]
  },
  {
   "cell_type": "code",
   "execution_count": 38,
   "metadata": {},
   "outputs": [],
   "source": [
    "# join with bike points data\n",
    "\n",
    "# read points data\n",
    "points_gdf = gpd.read_parquet(os.path.join(points_path, points_parquet_fn)).set_index('id')\n"
   ]
  },
  {
   "cell_type": "code",
   "execution_count": 43,
   "metadata": {},
   "outputs": [],
   "source": [
    "# join with points\n",
    "od_df = od_df.join(points_gdf.add_prefix('start_'), on = 'start_id').join(points_gdf.add_prefix('end_'), on = 'end_id')"
   ]
  },
  {
   "cell_type": "code",
   "execution_count": 48,
   "metadata": {},
   "outputs": [],
   "source": [
    "# calculate distance\n",
    "\n",
    "# define as GeoSeries\n",
    "start_geoseries = gpd.GeoSeries(od_df.start_geometry, crs = 'EPSG:27700')\n",
    "end_geoseries = gpd.GeoSeries(od_df.end_geometry, crs = 'EPSG:27700')\n",
    "\n",
    "od_df['distance'] = start_geoseries.distance(end_geoseries, align = False)\n"
   ]
  },
  {
   "cell_type": "code",
   "execution_count": 52,
   "metadata": {},
   "outputs": [],
   "source": [
    "# calculate height distance\n",
    "od_df['height_diff'] = od_df.end_height - od_df.start_height"
   ]
  },
  {
   "cell_type": "code",
   "execution_count": 77,
   "metadata": {},
   "outputs": [
    {
     "data": {
      "text/html": [
       "<div>\n",
       "<style scoped>\n",
       "    .dataframe tbody tr th:only-of-type {\n",
       "        vertical-align: middle;\n",
       "    }\n",
       "\n",
       "    .dataframe tbody tr th {\n",
       "        vertical-align: top;\n",
       "    }\n",
       "\n",
       "    .dataframe thead th {\n",
       "        text-align: right;\n",
       "    }\n",
       "</style>\n",
       "<table border=\"1\" class=\"dataframe\">\n",
       "  <thead>\n",
       "    <tr style=\"text-align: right;\">\n",
       "      <th></th>\n",
       "      <th>start_id</th>\n",
       "      <th>end_id</th>\n",
       "      <th>Bike model</th>\n",
       "      <th>Number</th>\n",
       "      <th>start_name</th>\n",
       "      <th>start_ports</th>\n",
       "      <th>start_location</th>\n",
       "      <th>start_zone</th>\n",
       "      <th>start_height</th>\n",
       "      <th>start_LSOA11CD</th>\n",
       "      <th>...</th>\n",
       "      <th>end_zone</th>\n",
       "      <th>end_height</th>\n",
       "      <th>end_LSOA11CD</th>\n",
       "      <th>end_LSOA11NM</th>\n",
       "      <th>end_MSOA11CD</th>\n",
       "      <th>end_MSOA11NM</th>\n",
       "      <th>end_cc_zone</th>\n",
       "      <th>end_geometry</th>\n",
       "      <th>distance</th>\n",
       "      <th>height_diff</th>\n",
       "    </tr>\n",
       "  </thead>\n",
       "  <tbody>\n",
       "    <tr>\n",
       "      <th>722854</th>\n",
       "      <td>200038</td>\n",
       "      <td>200230</td>\n",
       "      <td>CLASSIC</td>\n",
       "      <td>3493</td>\n",
       "      <td>Ackroyd Drive, Bow</td>\n",
       "      <td>29</td>\n",
       "      <td>Ackroyd Drive</td>\n",
       "      <td>Bow</td>\n",
       "      <td>8.641500</td>\n",
       "      <td>E01004271</td>\n",
       "      <td>...</td>\n",
       "      <td>Mile End</td>\n",
       "      <td>12.635000</td>\n",
       "      <td>E01004269</td>\n",
       "      <td>Tower Hamlets 014A</td>\n",
       "      <td>E02000877</td>\n",
       "      <td>Tower Hamlets 014</td>\n",
       "      <td>False</td>\n",
       "      <td>POINT (536604.113 182566.881)</td>\n",
       "      <td>684.013560</td>\n",
       "      <td>3.993500</td>\n",
       "    </tr>\n",
       "    <tr>\n",
       "      <th>1004102</th>\n",
       "      <td>200230</td>\n",
       "      <td>200038</td>\n",
       "      <td>CLASSIC</td>\n",
       "      <td>3136</td>\n",
       "      <td>Maplin Street, Mile End</td>\n",
       "      <td>39</td>\n",
       "      <td>Maplin Street</td>\n",
       "      <td>Mile End</td>\n",
       "      <td>12.635000</td>\n",
       "      <td>E01004269</td>\n",
       "      <td>...</td>\n",
       "      <td>Bow</td>\n",
       "      <td>8.641500</td>\n",
       "      <td>E01004271</td>\n",
       "      <td>Tower Hamlets 014C</td>\n",
       "      <td>E02000877</td>\n",
       "      <td>Tower Hamlets 014</td>\n",
       "      <td>False</td>\n",
       "      <td>POINT (537000.864 182009.689)</td>\n",
       "      <td>684.013560</td>\n",
       "      <td>-3.993500</td>\n",
       "    </tr>\n",
       "    <tr>\n",
       "      <th>179530</th>\n",
       "      <td>001075</td>\n",
       "      <td>001132</td>\n",
       "      <td>CLASSIC</td>\n",
       "      <td>3038</td>\n",
       "      <td>Hyde Park Corner, Hyde Park</td>\n",
       "      <td>36</td>\n",
       "      <td>Hyde Park Corner</td>\n",
       "      <td>Hyde Park</td>\n",
       "      <td>15.739500</td>\n",
       "      <td>E01004691</td>\n",
       "      <td>...</td>\n",
       "      <td>Hyde Park</td>\n",
       "      <td>10.970500</td>\n",
       "      <td>E01004691</td>\n",
       "      <td>Westminster 019E</td>\n",
       "      <td>E02000978</td>\n",
       "      <td>Westminster 019</td>\n",
       "      <td>False</td>\n",
       "      <td>POINT (527913.805 179831.597)</td>\n",
       "      <td>343.162775</td>\n",
       "      <td>-4.769000</td>\n",
       "    </tr>\n",
       "    <tr>\n",
       "      <th>264224</th>\n",
       "      <td>001132</td>\n",
       "      <td>001075</td>\n",
       "      <td>CLASSIC</td>\n",
       "      <td>2646</td>\n",
       "      <td>Albert Gate, Hyde Park</td>\n",
       "      <td>34</td>\n",
       "      <td>Albert Gate</td>\n",
       "      <td>Hyde Park</td>\n",
       "      <td>10.970500</td>\n",
       "      <td>E01004691</td>\n",
       "      <td>...</td>\n",
       "      <td>Hyde Park</td>\n",
       "      <td>15.739500</td>\n",
       "      <td>E01004691</td>\n",
       "      <td>Westminster 019E</td>\n",
       "      <td>E02000978</td>\n",
       "      <td>Westminster 019</td>\n",
       "      <td>False</td>\n",
       "      <td>POINT (528255.915 179858.465)</td>\n",
       "      <td>343.162775</td>\n",
       "      <td>4.769000</td>\n",
       "    </tr>\n",
       "    <tr>\n",
       "      <th>302624</th>\n",
       "      <td>001157</td>\n",
       "      <td>001075</td>\n",
       "      <td>CLASSIC</td>\n",
       "      <td>2464</td>\n",
       "      <td>Black Lion Gate, Kensington Gardens</td>\n",
       "      <td>24</td>\n",
       "      <td>Black Lion Gate</td>\n",
       "      <td>Kensington Gardens</td>\n",
       "      <td>28.057751</td>\n",
       "      <td>E01002827</td>\n",
       "      <td>...</td>\n",
       "      <td>Hyde Park</td>\n",
       "      <td>15.739500</td>\n",
       "      <td>E01004691</td>\n",
       "      <td>Westminster 019E</td>\n",
       "      <td>E02000978</td>\n",
       "      <td>Westminster 019</td>\n",
       "      <td>False</td>\n",
       "      <td>POINT (528255.915 179858.465)</td>\n",
       "      <td>2499.475677</td>\n",
       "      <td>-12.318251</td>\n",
       "    </tr>\n",
       "    <tr>\n",
       "      <th>...</th>\n",
       "      <td>...</td>\n",
       "      <td>...</td>\n",
       "      <td>...</td>\n",
       "      <td>...</td>\n",
       "      <td>...</td>\n",
       "      <td>...</td>\n",
       "      <td>...</td>\n",
       "      <td>...</td>\n",
       "      <td>...</td>\n",
       "      <td>...</td>\n",
       "      <td>...</td>\n",
       "      <td>...</td>\n",
       "      <td>...</td>\n",
       "      <td>...</td>\n",
       "      <td>...</td>\n",
       "      <td>...</td>\n",
       "      <td>...</td>\n",
       "      <td>...</td>\n",
       "      <td>...</td>\n",
       "      <td>...</td>\n",
       "      <td>...</td>\n",
       "    </tr>\n",
       "    <tr>\n",
       "      <th>1096736</th>\n",
       "      <td>300035</td>\n",
       "      <td>003494</td>\n",
       "      <td>CLASSIC</td>\n",
       "      <td>10</td>\n",
       "      <td>Carnegie Street, King's Cross</td>\n",
       "      <td>40</td>\n",
       "      <td>Carnegie Street</td>\n",
       "      <td>King's Cross</td>\n",
       "      <td>24.247250</td>\n",
       "      <td>E01002697</td>\n",
       "      <td>...</td>\n",
       "      <td>Fitzrovia</td>\n",
       "      <td>27.742298</td>\n",
       "      <td>E01004765</td>\n",
       "      <td>Westminster 013D</td>\n",
       "      <td>E02000972</td>\n",
       "      <td>Westminster 013</td>\n",
       "      <td>True</td>\n",
       "      <td>POINT (529115.180 181667.743)</td>\n",
       "      <td>2474.610137</td>\n",
       "      <td>3.495049</td>\n",
       "    </tr>\n",
       "    <tr>\n",
       "      <th>23530</th>\n",
       "      <td>000973</td>\n",
       "      <td>200166</td>\n",
       "      <td>CLASSIC</td>\n",
       "      <td>10</td>\n",
       "      <td>Bethnal Green Road, Shoreditch</td>\n",
       "      <td>38</td>\n",
       "      <td>Bethnal Green Road</td>\n",
       "      <td>Shoreditch</td>\n",
       "      <td>14.949500</td>\n",
       "      <td>E01004317</td>\n",
       "      <td>...</td>\n",
       "      <td>Hammersmith</td>\n",
       "      <td>4.222750</td>\n",
       "      <td>E01001898</td>\n",
       "      <td>Hammersmith and Fulham 013C</td>\n",
       "      <td>E02000384</td>\n",
       "      <td>Hammersmith and Fulham 013</td>\n",
       "      <td>False</td>\n",
       "      <td>POINT (523096.982 178772.018)</td>\n",
       "      <td>11133.267963</td>\n",
       "      <td>-10.726750</td>\n",
       "    </tr>\n",
       "    <tr>\n",
       "      <th>367998</th>\n",
       "      <td>001201</td>\n",
       "      <td>300253</td>\n",
       "      <td>CLASSIC</td>\n",
       "      <td>10</td>\n",
       "      <td>Bank of England Museum, Bank</td>\n",
       "      <td>16</td>\n",
       "      <td>Bank of England Museum</td>\n",
       "      <td>Bank</td>\n",
       "      <td>13.305500</td>\n",
       "      <td>E01032739</td>\n",
       "      <td>...</td>\n",
       "      <td>Bermondsey</td>\n",
       "      <td>2.634000</td>\n",
       "      <td>E01004023</td>\n",
       "      <td>Southwark 004D</td>\n",
       "      <td>E02000810</td>\n",
       "      <td>Southwark 004</td>\n",
       "      <td>False</td>\n",
       "      <td>POINT (534520.526 179450.393)</td>\n",
       "      <td>2479.864338</td>\n",
       "      <td>-10.671500</td>\n",
       "    </tr>\n",
       "    <tr>\n",
       "      <th>367988</th>\n",
       "      <td>001201</td>\n",
       "      <td>300247</td>\n",
       "      <td>CLASSIC</td>\n",
       "      <td>10</td>\n",
       "      <td>Bank of England Museum, Bank</td>\n",
       "      <td>16</td>\n",
       "      <td>Bank of England Museum</td>\n",
       "      <td>Bank</td>\n",
       "      <td>13.305500</td>\n",
       "      <td>E01032739</td>\n",
       "      <td>...</td>\n",
       "      <td>Stockwell</td>\n",
       "      <td>5.713250</td>\n",
       "      <td>E01003183</td>\n",
       "      <td>Lambeth 005E</td>\n",
       "      <td>E02000622</td>\n",
       "      <td>Lambeth 005</td>\n",
       "      <td>False</td>\n",
       "      <td>POINT (531241.653 177317.877)</td>\n",
       "      <td>4215.512533</td>\n",
       "      <td>-7.592250</td>\n",
       "    </tr>\n",
       "    <tr>\n",
       "      <th>399228</th>\n",
       "      <td>001222</td>\n",
       "      <td>022183</td>\n",
       "      <td>CLASSIC</td>\n",
       "      <td>10</td>\n",
       "      <td>Goswell Road (City Uni), Finsbury</td>\n",
       "      <td>17</td>\n",
       "      <td>Goswell Road (City Uni)</td>\n",
       "      <td>Finsbury</td>\n",
       "      <td>21.695999</td>\n",
       "      <td>E01002723</td>\n",
       "      <td>...</td>\n",
       "      <td>King's Cross</td>\n",
       "      <td>20.642250</td>\n",
       "      <td>E01002711</td>\n",
       "      <td>Islington 021B</td>\n",
       "      <td>E02000574</td>\n",
       "      <td>Islington 021</td>\n",
       "      <td>False</td>\n",
       "      <td>POINT (530339.891 183400.770)</td>\n",
       "      <td>1624.443075</td>\n",
       "      <td>-1.053749</td>\n",
       "    </tr>\n",
       "  </tbody>\n",
       "</table>\n",
       "<p>153201 rows × 28 columns</p>\n",
       "</div>"
      ],
      "text/plain": [
       "        start_id  end_id Bike model  Number  \\\n",
       "722854    200038  200230    CLASSIC    3493   \n",
       "1004102   200230  200038    CLASSIC    3136   \n",
       "179530    001075  001132    CLASSIC    3038   \n",
       "264224    001132  001075    CLASSIC    2646   \n",
       "302624    001157  001075    CLASSIC    2464   \n",
       "...          ...     ...        ...     ...   \n",
       "1096736   300035  003494    CLASSIC      10   \n",
       "23530     000973  200166    CLASSIC      10   \n",
       "367998    001201  300253    CLASSIC      10   \n",
       "367988    001201  300247    CLASSIC      10   \n",
       "399228    001222  022183    CLASSIC      10   \n",
       "\n",
       "                                  start_name start_ports  \\\n",
       "722854                    Ackroyd Drive, Bow          29   \n",
       "1004102              Maplin Street, Mile End          39   \n",
       "179530           Hyde Park Corner, Hyde Park          36   \n",
       "264224                Albert Gate, Hyde Park          34   \n",
       "302624   Black Lion Gate, Kensington Gardens          24   \n",
       "...                                      ...         ...   \n",
       "1096736        Carnegie Street, King's Cross          40   \n",
       "23530         Bethnal Green Road, Shoreditch          38   \n",
       "367998          Bank of England Museum, Bank          16   \n",
       "367988          Bank of England Museum, Bank          16   \n",
       "399228     Goswell Road (City Uni), Finsbury          17   \n",
       "\n",
       "                  start_location          start_zone  start_height  \\\n",
       "722854             Ackroyd Drive                 Bow      8.641500   \n",
       "1004102            Maplin Street            Mile End     12.635000   \n",
       "179530          Hyde Park Corner           Hyde Park     15.739500   \n",
       "264224               Albert Gate           Hyde Park     10.970500   \n",
       "302624           Black Lion Gate  Kensington Gardens     28.057751   \n",
       "...                          ...                 ...           ...   \n",
       "1096736          Carnegie Street        King's Cross     24.247250   \n",
       "23530         Bethnal Green Road          Shoreditch     14.949500   \n",
       "367998    Bank of England Museum                Bank     13.305500   \n",
       "367988    Bank of England Museum                Bank     13.305500   \n",
       "399228   Goswell Road (City Uni)            Finsbury     21.695999   \n",
       "\n",
       "        start_LSOA11CD  ...      end_zone end_height end_LSOA11CD  \\\n",
       "722854       E01004271  ...      Mile End  12.635000    E01004269   \n",
       "1004102      E01004269  ...           Bow   8.641500    E01004271   \n",
       "179530       E01004691  ...     Hyde Park  10.970500    E01004691   \n",
       "264224       E01004691  ...     Hyde Park  15.739500    E01004691   \n",
       "302624       E01002827  ...     Hyde Park  15.739500    E01004691   \n",
       "...                ...  ...           ...        ...          ...   \n",
       "1096736      E01002697  ...     Fitzrovia  27.742298    E01004765   \n",
       "23530        E01004317  ...   Hammersmith   4.222750    E01001898   \n",
       "367998       E01032739  ...    Bermondsey   2.634000    E01004023   \n",
       "367988       E01032739  ...     Stockwell   5.713250    E01003183   \n",
       "399228       E01002723  ...  King's Cross  20.642250    E01002711   \n",
       "\n",
       "                        end_LSOA11NM end_MSOA11CD                end_MSOA11NM  \\\n",
       "722854            Tower Hamlets 014A    E02000877           Tower Hamlets 014   \n",
       "1004102           Tower Hamlets 014C    E02000877           Tower Hamlets 014   \n",
       "179530              Westminster 019E    E02000978             Westminster 019   \n",
       "264224              Westminster 019E    E02000978             Westminster 019   \n",
       "302624              Westminster 019E    E02000978             Westminster 019   \n",
       "...                              ...          ...                         ...   \n",
       "1096736             Westminster 013D    E02000972             Westminster 013   \n",
       "23530    Hammersmith and Fulham 013C    E02000384  Hammersmith and Fulham 013   \n",
       "367998                Southwark 004D    E02000810               Southwark 004   \n",
       "367988                  Lambeth 005E    E02000622                 Lambeth 005   \n",
       "399228                Islington 021B    E02000574               Islington 021   \n",
       "\n",
       "        end_cc_zone                   end_geometry      distance  height_diff  \n",
       "722854        False  POINT (536604.113 182566.881)    684.013560     3.993500  \n",
       "1004102       False  POINT (537000.864 182009.689)    684.013560    -3.993500  \n",
       "179530        False  POINT (527913.805 179831.597)    343.162775    -4.769000  \n",
       "264224        False  POINT (528255.915 179858.465)    343.162775     4.769000  \n",
       "302624        False  POINT (528255.915 179858.465)   2499.475677   -12.318251  \n",
       "...             ...                            ...           ...          ...  \n",
       "1096736        True  POINT (529115.180 181667.743)   2474.610137     3.495049  \n",
       "23530         False  POINT (523096.982 178772.018)  11133.267963   -10.726750  \n",
       "367998        False  POINT (534520.526 179450.393)   2479.864338   -10.671500  \n",
       "367988        False  POINT (531241.653 177317.877)   4215.512533    -7.592250  \n",
       "399228        False  POINT (530339.891 183400.770)   1624.443075    -1.053749  \n",
       "\n",
       "[153201 rows x 28 columns]"
      ]
     },
     "execution_count": 77,
     "metadata": {},
     "output_type": "execute_result"
    }
   ],
   "source": [
    "od_df[(od_df.start_id != od_df.end_id) & (od_df['Bike model'] == 'CLASSIC') & (od_df.Number >= 10)].sort_values(by = 'Number', ascending = False)"
   ]
  },
  {
   "cell_type": "code",
   "execution_count": 91,
   "metadata": {},
   "outputs": [],
   "source": [
    "msoa_od = od_df.groupby(['start_MSOA11CD', 'end_MSOA11CD']).agg(\n",
    "    {\n",
    "        'Number': 'sum',\n",
    "        'distance': 'mean',\n",
    "        'height_diff': 'mean'\n",
    "    }\n",
    ")"
   ]
  },
  {
   "cell_type": "code",
   "execution_count": 93,
   "metadata": {},
   "outputs": [
    {
     "data": {
      "image/png": "[encoded data removed]",
      "text/plain": [
       "<Figure size 640x480 with 1 Axes>"
      ]
     },
     "metadata": {},
     "output_type": "display_data"
    }
   ],
   "source": [
    "fig, ax = plt.subplots(1, 1)\n",
    "\n",
    "ax.scatter(\n",
    "    x = msoa_od.height_diff,\n",
    "    y = msoa_od.Number,\n",
    "    alpha = 0.5\n",
    ")\n",
    "\n",
    "plt.show()"
   ]
  },
  {
   "cell_type": "code",
   "execution_count": 72,
   "metadata": {},
   "outputs": [
    {
     "data": {
      "text/plain": [
       "<Axes: >"
      ]
     },
     "execution_count": 72,
     "metadata": {},
     "output_type": "execute_result"
    },
    {
     "data": {
      "image/png": "[encoded data removed]",
      "text/plain": [
       "<Figure size 640x480 with 1 Axes>"
      ]
     },
     "metadata": {},
     "output_type": "display_data"
    }
   ],
   "source": [
    "od_df[(od_df.start_id != od_df.end_id) & (od_df['Bike model'] == 'CLASSIC')].Number.hist(bins = 30)"
   ]
  },
  {
   "cell_type": "code",
   "execution_count": 20,
   "metadata": {},
   "outputs": [
    {
     "data": {
      "text/plain": [
       "<Axes: xlabel='Start date'>"
      ]
     },
     "execution_count": 20,
     "metadata": {},
     "output_type": "execute_result"
    },
    {
     "data": {
      "image/png": "[encoded data removed]",
      "text/plain": [
       "<Figure size 640x480 with 1 Axes>"
      ]
     },
     "metadata": {},
     "output_type": "display_data"
    }
   ],
   "source": [
    "journeys_gdf.groupby(journeys_gdf['Start date'].dt.hour).Number.count().plot(kind = 'bar')"
   ]
  }
 ],
 "metadata": {
  "kernelspec": {
   "display_name": "Python 3",
   "language": "python",
   "name": "python3"
  },
  "language_info": {
   "codemirror_mode": {
    "name": "ipython",
    "version": 3
   },
   "file_extension": ".py",
   "mimetype": "text/x-python",
   "name": "python",
   "nbconvert_exporter": "python",
   "pygments_lexer": "ipython3",
   "version": "3.11.5"
  }
 },
 "nbformat": 4,
 "nbformat_minor": 2
}
