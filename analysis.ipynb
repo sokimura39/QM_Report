{
 "cells": [
  {
   "cell_type": "markdown",
   "metadata": {},
   "source": [
    "# The analysis for journey data\n",
    "\n",
    "## An analysis for the cycle hire data\n",
    "\n",
    "We will consider the influence of multiple factors of the physical environment on the number of travels"
   ]
  },
  {
   "cell_type": "code",
   "execution_count": 1,
   "metadata": {},
   "outputs": [],
   "source": [
    "# load libraries\n",
    "\n",
    "import os\n",
    "import csv\n",
    "import json\n",
    "import urllib.request\n",
    "from requests import get\n",
    "\n",
    "import pandas as pd\n",
    "import geopandas as gpd\n",
    "import rasterio\n",
    "import rasterio.plot\n",
    "\n",
    "import scipy.stats\n",
    "import matplotlib.pyplot as plt\n"
   ]
  },
  {
   "cell_type": "code",
   "execution_count": 2,
   "metadata": {},
   "outputs": [],
   "source": [
    "# set path\n",
    "points_path = os.path.join('data', 'cycles', 'points')\n",
    "points_fn = 'BikePoints.geojson'\n",
    "journeys_path = os.path.join('data', 'cycles', 'journeys')\n",
    "journeys_gdf_fn = 'journeys_gdf.geoparquet'\n",
    "elevation_path = os.path.join('data', 'elevation', 'london_elevation.tif')\n",
    "geom_path = os.path.join('data', 'London_geometry')\n",
    "lsoa_fn = 'LSOA_2011_London_gen_MHW.shp'\n",
    "cc_fn = 'CentralUltraLowEmissionZone.gpkg'"
   ]
  },
  {
   "cell_type": "code",
   "execution_count": 3,
   "metadata": {},
   "outputs": [],
   "source": [
    "# load data\n",
    "\n",
    "journeys_gdf = gpd.read_parquet(os.path.join(journeys_path, journeys_gdf_fn))"
   ]
  },
  {
   "cell_type": "markdown",
   "metadata": {},
   "source": [
    "## Basic analysis of the data\n",
    "\n",
    "First, looking at the characteristics of the dataset."
   ]
  },
  {
   "cell_type": "code",
   "execution_count": 4,
   "metadata": {},
   "outputs": [
    {
     "data": {
      "text/plain": [
       "Number                          int64\n",
       "Start date             datetime64[ns]\n",
       "Start station                  object\n",
       "End date               datetime64[ns]\n",
       "End station                    object\n",
       "Bike number                     int64\n",
       "Bike model                   category\n",
       "Total duration (ms)             int64\n",
       "start_id                       object\n",
       "start_name                     object\n",
       "start_ports                    object\n",
       "start_location                 object\n",
       "start_zone                     object\n",
       "start_height                  float32\n",
       "start_LSOA11CD                 object\n",
       "start_LSOA11NM                 object\n",
       "start_cc_zone                    bool\n",
       "end_id                         object\n",
       "end_name                       object\n",
       "end_ports                      object\n",
       "end_location                   object\n",
       "end_zone                       object\n",
       "end_height                    float32\n",
       "end_LSOA11CD                   object\n",
       "end_LSOA11NM                   object\n",
       "end_cc_zone                      bool\n",
       "geometry                     geometry\n",
       "height_diff                   float32\n",
       "distance                      float64\n",
       "dtype: object"
      ]
     },
     "execution_count": 4,
     "metadata": {},
     "output_type": "execute_result"
    }
   ],
   "source": [
    "# clean data\n",
    "\n",
    "# convert dates into datetime format\n",
    "dates = ['Start date', 'End date']\n",
    "for d in dates:\n",
    "    journeys_gdf[d] = pd.to_datetime(journeys_gdf[d], format = '%Y-%m-%d %H:%M')\n",
    "\n",
    "# convert bike model into categories\n",
    "journeys_gdf['Bike model'] = journeys_gdf['Bike model'].astype('category')\n",
    "\n",
    "# remove total duration\n",
    "journeys_gdf = journeys_gdf.drop('Total duration', axis = 1)\n",
    "\n",
    "journeys_gdf.dtypes"
   ]
  },
  {
   "cell_type": "code",
   "execution_count": 5,
   "metadata": {},
   "outputs": [],
   "source": [
    "# filter by start date\n",
    "journeys_gdf = journeys_gdf[journeys_gdf['Start date'] >= '2022-12-01'].copy()"
   ]
  },
  {
   "cell_type": "code",
   "execution_count": 13,
   "metadata": {},
   "outputs": [
    {
     "data": {
      "text/plain": [
       "count    8.414631e+06\n",
       "mean    -2.199563e-01\n",
       "std      9.165493e+00\n",
       "min     -4.387600e+01\n",
       "25%     -4.115751e+00\n",
       "50%      0.000000e+00\n",
       "75%      3.755500e+00\n",
       "max      4.387600e+01\n",
       "Name: height_diff, dtype: float64"
      ]
     },
     "execution_count": 13,
     "metadata": {},
     "output_type": "execute_result"
    }
   ],
   "source": [
    "journeys_gdf.height_diff.describe()"
   ]
  },
  {
   "cell_type": "code",
   "execution_count": 22,
   "metadata": {},
   "outputs": [
    {
     "data": {
      "text/plain": [
       "<Axes: xlabel='Start date,Start date'>"
      ]
     },
     "execution_count": 22,
     "metadata": {},
     "output_type": "execute_result"
    },
    {
     "data": {
      "image/png": "[encoded data removed]",
      "text/plain": [
       "<Figure size 640x480 with 1 Axes>"
      ]
     },
     "metadata": {},
     "output_type": "display_data"
    }
   ],
   "source": [
    "# draw bar chart by month\n",
    "journeys_gdf.groupby([journeys_gdf['Start date'].dt.year, journeys_gdf['Start date'].dt.month]).Number.count().plot(kind = 'bar')"
   ]
  },
  {
   "cell_type": "code",
   "execution_count": 6,
   "metadata": {},
   "outputs": [
    {
     "data": {
      "text/plain": [
       "-0.21995632"
      ]
     },
     "execution_count": 6,
     "metadata": {},
     "output_type": "execute_result"
    }
   ],
   "source": [
    "# calculate mean of height distance\n",
    "journeys_gdf.height_diff.mean()"
   ]
  },
  {
   "cell_type": "code",
   "execution_count": 29,
   "metadata": {},
   "outputs": [
    {
     "data": {
      "image/png": "[encoded data removed]",
      "text/plain": [
       "<Figure size 640x480 with 1 Axes>"
      ]
     },
     "metadata": {},
     "output_type": "display_data"
    }
   ],
   "source": [
    "# draw histogram of height distance\n",
    "\n",
    "# set up plot\n",
    "fig, ax = plt.subplots(1, 1)\n",
    "\n",
    "# add histogram\n",
    "ax.hist(\n",
    "    journeys_gdf.height_diff,\n",
    "    bins = 81\n",
    ")\n",
    "\n",
    "# set limits\n",
    "ax.set_xlim(-40.5, 40.5)\n",
    "\n",
    "plt.show()\n"
   ]
  },
  {
   "cell_type": "code",
   "execution_count": 7,
   "metadata": {},
   "outputs": [
    {
     "data": {
      "text/plain": [
       "-0.22877766"
      ]
     },
     "execution_count": 7,
     "metadata": {},
     "output_type": "execute_result"
    }
   ],
   "source": [
    "journeys_gdf[journeys_gdf['Start station'] != journeys_gdf['End station']].height_diff.mean()"
   ]
  },
  {
   "cell_type": "code",
   "execution_count": 8,
   "metadata": {},
   "outputs": [
    {
     "data": {
      "text/plain": [
       "TtestResult(statistic=-69.61426590290411, pvalue=0.0, df=8414630)"
      ]
     },
     "execution_count": 8,
     "metadata": {},
     "output_type": "execute_result"
    }
   ],
   "source": [
    "scipy.stats.ttest_1samp(journeys_gdf.height_diff, popmean = 0)"
   ]
  },
  {
   "cell_type": "markdown",
   "metadata": {},
   "source": [
    "### The average height difference\n",
    "\n",
    "The average of the height difference is -0.22 m. From the one sample T-test, the null hypothesis of average being 0 is rejected, and is statistically significant, concluding that on average the shared cycles are used more downhill than uphill."
   ]
  },
  {
   "cell_type": "code",
   "execution_count": 9,
   "metadata": {},
   "outputs": [
    {
     "data": {
      "text/plain": [
       "(array([1.443276e+06, 2.202603e+06, 1.763172e+06, 1.216677e+06,\n",
       "        7.556930e+05, 4.513590e+05, 2.545110e+05, 1.445900e+05,\n",
       "        8.518200e+04, 4.782000e+04, 2.491700e+04, 1.258100e+04,\n",
       "        6.461000e+03, 2.777000e+03, 1.500000e+03, 9.490000e+02,\n",
       "        3.900000e+02, 1.320000e+02, 3.600000e+01, 5.000000e+00]),\n",
       " array([    0.        ,   858.53878817,  1717.07757635,  2575.61636452,\n",
       "         3434.15515269,  4292.69394087,  5151.23272904,  6009.77151721,\n",
       "         6868.31030539,  7726.84909356,  8585.38788174,  9443.92666991,\n",
       "        10302.46545808, 11161.00424626, 12019.54303443, 12878.0818226 ,\n",
       "        13736.62061078, 14595.15939895, 15453.69818712, 16312.2369753 ,\n",
       "        17170.77576347]),\n",
       " <BarContainer object of 20 artists>)"
      ]
     },
     "execution_count": 9,
     "metadata": {},
     "output_type": "execute_result"
    },
    {
     "data": {
      "image/png": "[encoded data removed]",
      "text/plain": [
       "<Figure size 640x480 with 1 Axes>"
      ]
     },
     "metadata": {},
     "output_type": "display_data"
    }
   ],
   "source": [
    "# draw scatter plot\n",
    "\n",
    "plt.hist(journeys_gdf['distance'], bins = 20)\n"
   ]
  },
  {
   "cell_type": "code",
   "execution_count": 10,
   "metadata": {},
   "outputs": [],
   "source": [
    "# calculate average speed\n",
    "journeys_gdf['ave_speed'] = journeys_gdf['distance'] / journeys_gdf['Total duration (ms)'] * 1000"
   ]
  },
  {
   "cell_type": "markdown",
   "metadata": {},
   "source": [
    "## Consider the bike types\n",
    "\n",
    "The 2 types of bikes existing may make a difference."
   ]
  },
  {
   "cell_type": "code",
   "execution_count": 36,
   "metadata": {},
   "outputs": [
    {
     "name": "stderr",
     "output_type": "stream",
     "text": [
      "C:\\Users\\Soki\\AppData\\Local\\Temp\\ipykernel_24868\\924047236.py:2: FutureWarning: The default of observed=False is deprecated and will be changed to True in a future version of pandas. Pass observed=False to retain current behavior or observed=True to adopt the future default and silence this warning.\n",
      "  journeys_gdf.groupby(by = 'Bike model').distance.describe()\n"
     ]
    },
    {
     "data": {
      "text/html": [
       "<div>\n",
       "<style scoped>\n",
       "    .dataframe tbody tr th:only-of-type {\n",
       "        vertical-align: middle;\n",
       "    }\n",
       "\n",
       "    .dataframe tbody tr th {\n",
       "        vertical-align: top;\n",
       "    }\n",
       "\n",
       "    .dataframe thead th {\n",
       "        text-align: right;\n",
       "    }\n",
       "</style>\n",
       "<table border=\"1\" class=\"dataframe\">\n",
       "  <thead>\n",
       "    <tr style=\"text-align: right;\">\n",
       "      <th></th>\n",
       "      <th>count</th>\n",
       "      <th>mean</th>\n",
       "      <th>std</th>\n",
       "      <th>min</th>\n",
       "      <th>25%</th>\n",
       "      <th>50%</th>\n",
       "      <th>75%</th>\n",
       "      <th>max</th>\n",
       "    </tr>\n",
       "    <tr>\n",
       "      <th>Bike model</th>\n",
       "      <th></th>\n",
       "      <th></th>\n",
       "      <th></th>\n",
       "      <th></th>\n",
       "      <th></th>\n",
       "      <th></th>\n",
       "      <th></th>\n",
       "      <th></th>\n",
       "    </tr>\n",
       "  </thead>\n",
       "  <tbody>\n",
       "    <tr>\n",
       "      <th>CLASSIC</th>\n",
       "      <td>7808234.0</td>\n",
       "      <td>2279.410865</td>\n",
       "      <td>1656.945009</td>\n",
       "      <td>0.0</td>\n",
       "      <td>1085.307181</td>\n",
       "      <td>1906.495847</td>\n",
       "      <td>3087.379142</td>\n",
       "      <td>17170.775763</td>\n",
       "    </tr>\n",
       "    <tr>\n",
       "      <th>PBSC_EBIKE</th>\n",
       "      <td>606397.0</td>\n",
       "      <td>3124.616509</td>\n",
       "      <td>2014.003074</td>\n",
       "      <td>0.0</td>\n",
       "      <td>1651.065859</td>\n",
       "      <td>2757.887126</td>\n",
       "      <td>4181.514950</td>\n",
       "      <td>16682.920172</td>\n",
       "    </tr>\n",
       "  </tbody>\n",
       "</table>\n",
       "</div>"
      ],
      "text/plain": [
       "                count         mean          std  min          25%  \\\n",
       "Bike model                                                          \n",
       "CLASSIC     7808234.0  2279.410865  1656.945009  0.0  1085.307181   \n",
       "PBSC_EBIKE   606397.0  3124.616509  2014.003074  0.0  1651.065859   \n",
       "\n",
       "                    50%          75%           max  \n",
       "Bike model                                          \n",
       "CLASSIC     1906.495847  3087.379142  17170.775763  \n",
       "PBSC_EBIKE  2757.887126  4181.514950  16682.920172  "
      ]
     },
     "execution_count": 36,
     "metadata": {},
     "output_type": "execute_result"
    }
   ],
   "source": [
    "# compare the distances\n",
    "journeys_gdf.groupby(by = 'Bike model').distance.describe()"
   ]
  },
  {
   "cell_type": "code",
   "execution_count": 38,
   "metadata": {},
   "outputs": [
    {
     "name": "stderr",
     "output_type": "stream",
     "text": [
      "C:\\Users\\Soki\\AppData\\Local\\Temp\\ipykernel_24868\\699735221.py:2: FutureWarning: The default of observed=False is deprecated and will be changed to True in a future version of pandas. Pass observed=False to retain current behavior or observed=True to adopt the future default and silence this warning.\n",
      "  journeys_gdf.groupby(by = 'Bike model').height_diff.describe()\n"
     ]
    },
    {
     "data": {
      "text/html": [
       "<div>\n",
       "<style scoped>\n",
       "    .dataframe tbody tr th:only-of-type {\n",
       "        vertical-align: middle;\n",
       "    }\n",
       "\n",
       "    .dataframe tbody tr th {\n",
       "        vertical-align: top;\n",
       "    }\n",
       "\n",
       "    .dataframe thead th {\n",
       "        text-align: right;\n",
       "    }\n",
       "</style>\n",
       "<table border=\"1\" class=\"dataframe\">\n",
       "  <thead>\n",
       "    <tr style=\"text-align: right;\">\n",
       "      <th></th>\n",
       "      <th>count</th>\n",
       "      <th>mean</th>\n",
       "      <th>std</th>\n",
       "      <th>min</th>\n",
       "      <th>25%</th>\n",
       "      <th>50%</th>\n",
       "      <th>75%</th>\n",
       "      <th>max</th>\n",
       "    </tr>\n",
       "    <tr>\n",
       "      <th>Bike model</th>\n",
       "      <th></th>\n",
       "      <th></th>\n",
       "      <th></th>\n",
       "      <th></th>\n",
       "      <th></th>\n",
       "      <th></th>\n",
       "      <th></th>\n",
       "      <th></th>\n",
       "    </tr>\n",
       "  </thead>\n",
       "  <tbody>\n",
       "    <tr>\n",
       "      <th>CLASSIC</th>\n",
       "      <td>7808234.0</td>\n",
       "      <td>-0.231310</td>\n",
       "      <td>9.00606</td>\n",
       "      <td>-43.875999</td>\n",
       "      <td>-3.996001</td>\n",
       "      <td>0.0</td>\n",
       "      <td>3.60825</td>\n",
       "      <td>43.875999</td>\n",
       "    </tr>\n",
       "    <tr>\n",
       "      <th>PBSC_EBIKE</th>\n",
       "      <td>606397.0</td>\n",
       "      <td>-0.073767</td>\n",
       "      <td>11.01310</td>\n",
       "      <td>-43.214748</td>\n",
       "      <td>-6.377500</td>\n",
       "      <td>0.0</td>\n",
       "      <td>6.23700</td>\n",
       "      <td>43.779247</td>\n",
       "    </tr>\n",
       "  </tbody>\n",
       "</table>\n",
       "</div>"
      ],
      "text/plain": [
       "                count      mean       std        min       25%  50%      75%  \\\n",
       "Bike model                                                                     \n",
       "CLASSIC     7808234.0 -0.231310   9.00606 -43.875999 -3.996001  0.0  3.60825   \n",
       "PBSC_EBIKE   606397.0 -0.073767  11.01310 -43.214748 -6.377500  0.0  6.23700   \n",
       "\n",
       "                  max  \n",
       "Bike model             \n",
       "CLASSIC     43.875999  \n",
       "PBSC_EBIKE  43.779247  "
      ]
     },
     "execution_count": 38,
     "metadata": {},
     "output_type": "execute_result"
    }
   ],
   "source": [
    "# compare the height difference\n",
    "journeys_gdf.groupby(by = 'Bike model').height_diff.describe()"
   ]
  },
  {
   "cell_type": "code",
   "execution_count": 30,
   "metadata": {},
   "outputs": [
    {
     "data": {
      "image/png": "[encoded data removed]",
      "text/plain": [
       "<Figure size 640x480 with 2 Axes>"
      ]
     },
     "metadata": {},
     "output_type": "display_data"
    }
   ],
   "source": [
    "# set up plot\n",
    "fig, axes = plt.subplots(1, 2)\n",
    "\n",
    "# add histogram for classic cycles\n",
    "axes[0].hist(\n",
    "    journeys_gdf[journeys_gdf['Bike model'] == 'CLASSIC'].height_diff,\n",
    "    bins = 81\n",
    ")\n",
    "\n",
    "# add histogram for ebikes\n",
    "axes[1].hist(\n",
    "    journeys_gdf[journeys_gdf['Bike model'] == 'PBSC_EBIKE'].height_diff,\n",
    "    bins = 81\n",
    ")\n",
    "\n",
    "\n",
    "# set limits\n",
    "for ax in axes:\n",
    "    ax.set_xlim(-40.5, 40.5)\n",
    "\n",
    "plt.show()"
   ]
  },
  {
   "cell_type": "code",
   "execution_count": 39,
   "metadata": {},
   "outputs": [
    {
     "data": {
      "text/plain": [
       "TtestResult(statistic=-12.893918258674379, pvalue=4.874543134223036e-38, df=8414629.0)"
      ]
     },
     "execution_count": 39,
     "metadata": {},
     "output_type": "execute_result"
    }
   ],
   "source": [
    "# conduct t-test\n",
    "\n",
    "\n",
    "scipy.stats.ttest_ind(\n",
    "    journeys_gdf[journeys_gdf['Bike model'] == 'CLASSIC'].height_diff,\n",
    "    journeys_gdf[journeys_gdf['Bike model'] == 'PBSC_EBIKE'].height_diff\n",
    ")"
   ]
  }
 ],
 "metadata": {
  "kernelspec": {
   "display_name": "Python 3",
   "language": "python",
   "name": "python3"
  },
  "language_info": {
   "codemirror_mode": {
    "name": "ipython",
    "version": 3
   },
   "file_extension": ".py",
   "mimetype": "text/x-python",
   "name": "python",
   "nbconvert_exporter": "python",
   "pygments_lexer": "ipython3",
   "version": "3.11.5"
  }
 },
 "nbformat": 4,
 "nbformat_minor": 2
}
