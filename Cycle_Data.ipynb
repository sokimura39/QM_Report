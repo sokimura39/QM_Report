{
 "cells": [
  {
   "cell_type": "markdown",
   "id": "180d6de9-b766-41c3-aeb3-a6447ab5c60d",
   "metadata": {},
   "source": [
    "# Data Wrangling of Santander Cycles Open Data\n",
    "\n",
    "For the analysis, I have used the Open Data for the Santander Cycles bike share scheme in London.\n",
    "Here, I have done some data manipulation from the data that I acquired from Transport for London Open Data.\n",
    "\n",
    "For this challenge, I did not use the real-time data from the API, but focused on the locations for bike points and some journeys data."
   ]
  },
  {
   "cell_type": "markdown",
   "id": "cd50d482-9bd4-4c14-b44c-dac2946e977c",
   "metadata": {},
   "source": [
    "## Fetching the Bike Points\n",
    "\n",
    "The data for bike points can be found from the [TfL Unified API](https://api.tfl.gov.uk/bikepoint).\n",
    "I have converted this file into a GeoJSON file for analysis.\n",
    "\n",
    "The data directory is not pushed to GitHub.\n",
    "Downloads the raw data into `DL_path`, and saves the points assigned by `points_path`."
   ]
  },
  {
   "cell_type": "code",
   "execution_count": 1,
   "id": "d008e2ac-3385-4fae-8de7-3f140264fe18",
   "metadata": {},
   "outputs": [],
   "source": [
    "import os\n",
    "import json\n",
    "import urllib.request\n",
    "\n",
    "import pandas as pd\n",
    "import geopandas as gpd"
   ]
  },
  {
   "cell_type": "code",
   "execution_count": 3,
   "id": "a7861787-dd10-48dd-bf5a-c0fe78f72b67",
   "metadata": {},
   "outputs": [],
   "source": [
    "# Converts Bike Points into GeoJSON file\n",
    "# set paths\n",
    "DL_path = \"data/cycles/DL_data\"\n",
    "points_path = \"data/cycles/points\"\n",
    "points_fn = \"BikePoints.geojson\""
   ]
  },
  {
   "cell_type": "code",
   "execution_count": null,
   "id": "fc0786f2-95c8-49fa-bb08-03754b2a2802",
   "metadata": {},
   "outputs": [],
   "source": [
    "# import json file from TfL Unified API if not already in local\n",
    "source_url = \"https://api.tfl.gov.uk/BikePoint\"\n",
    "\n",
    "if os.path.exists(os.path.join(DL_path, \"BikePoint.json\")):\n",
    "    print(\"Loading file from local\")\n",
    "    docks = json.load(open(os.path.join(DL_path, \"BikePoint.json\")))\n",
    "else:\n",
    "    print(f\"Download from {source_url}\") \n",
    "    with urllib.request.urlopen(source_url) as source:\n",
    "        docks = json.load(source)\n",
    "    # save to local\n",
    "    docks_DL_data = json.dumps(docks)\n",
    "    # creates saving directory if does not exist\n",
    "    if not os.path.exists(DL_path):\n",
    "        os.makedirs(DL_path)\n",
    "    # save json file\n",
    "    with open(os.path.join(DL_path, \"BikePoint.json\"), \"w\") as f:\n",
    "        f.write(docks_DL_data)\n",
    "\n",
    "# create output file\n",
    "output = {\n",
    "    \"type\": \"FeatureCollection\",\n",
    "    \"features\" : []\n",
    "}\n",
    "\n",
    "# add docks data\n",
    "for d in docks:\n",
    "    for x in d[\"additionalProperties\"]:\n",
    "        if x[\"key\"] == \"TerminalName\":\n",
    "            id = x[\"value\"]\n",
    "    lat = d[\"lat\"]\n",
    "    lon = d[\"lon\"]\n",
    "    long_name = d[\"commonName\"]\n",
    "\n",
    "    #Separate area and specific port name\n",
    "    # comma = d[\"commonName\"].rfind(\",\")\n",
    "    # if comma != -1:\n",
    "    #     loc = d[\"commonName\"][:comma]\n",
    "    #     area = d[\"commonName\"][comma+1:]\n",
    "    # else:\n",
    "    #     loc = \"\"\n",
    "    #     area = \"\"\n",
    "        \n",
    "    for x in d[\"additionalProperties\"]:\n",
    "        if x[\"key\"] == \"NbDocks\":\n",
    "            docks = x[\"value\"]\n",
    "\n",
    "    # GeoJSON features\n",
    "    port = {\n",
    "        \"type\": \"Feature\",\n",
    "        \"geometry\": {\n",
    "            \"type\": \"Point\",\n",
    "            \"coordinates\": [lon, lat]\n",
    "        },\n",
    "        \"properties\": {\n",
    "            \"id\": id,\n",
    "            \"name\": long_name,\n",
    "            # \"location\": loc,\n",
    "            # \"area\": area,\n",
    "            \"ports\": docks,\n",
    "        },\n",
    "    }\n",
    "    output[\"features\"].append(port)\n",
    "\n",
    "# create output\n",
    "docks_geojson = json.dumps(output)\n",
    "\n",
    "# creates saving directory if does not exist\n",
    "if not os.path.exists(points_path):\n",
    "    os.makedirs(points_path)\n",
    "\n",
    "# save json file\n",
    "with open(os.path.join(points_path, points_fn), \"w\") as f:\n",
    "    f.write(docks_geojson)\n",
    "print(\"done\")\n",
    "    "
   ]
  },
  {
   "cell_type": "code",
   "execution_count": 4,
   "id": "b1acbb80-19ed-449f-b801-240b307dfd1e",
   "metadata": {},
   "outputs": [],
   "source": [
    "# create geodataframe\n",
    "\n",
    "points_gdf = gpd.read_file(os.path.join(points_path, points_fn))\n",
    "\n",
    "# split location and zone\n",
    "name = ['location', 'zone']\n",
    "points_gdf[name] = points_gdf['name'].str.rsplit(pat = ',', n = 1, expand = True)\n",
    "\n",
    "# clear spaces before and after commas\n",
    "for n in name:\n",
    "    points_gdf[n] = points_gdf[n].str.replace(r'^( +)|( +)$', r'', regex = True)\n",
    "\n",
    "# fix zone name\n",
    "replaces = {\n",
    "    \"Kings Cross\": \"King's Cross\",\n",
    "    \"Parsons Green\": \"Parson's Green\",\n",
    "    \"St Lukes\": \"St. Luke's\",\n",
    "    \"St Pauls\": \"St. Paul's\",\n",
    "    \"St.John's Wood\": \"St. John's Wood\",\n",
    "}\n",
    "points_gdf['zone'] = points_gdf.zone.replace(replaces)\n",
    "\n",
    "# convert into British National Grid\n",
    "points_gdf = points_gdf.to_crs('EPSG:27700')"
   ]
  },
  {
   "cell_type": "code",
   "execution_count": 14,
   "id": "3d9da7c7-8f5e-4c04-aa01-3917fb478cac",
   "metadata": {},
   "outputs": [
    {
     "data": {
      "text/plain": [
       "count       800.000000\n",
       "mean     180204.902844\n",
       "std        2296.400357\n",
       "min      174293.496179\n",
       "25%      178738.606234\n",
       "50%      180489.565605\n",
       "75%      181931.978636\n",
       "max      185252.061561\n",
       "Name: y, dtype: float64"
      ]
     },
     "execution_count": 14,
     "metadata": {},
     "output_type": "execute_result"
    }
   ],
   "source": [
    "points_gdf.get_coordinates().y.describe()"
   ]
  }
 ],
 "metadata": {
  "kernelspec": {
   "display_name": "Python 3 (ipykernel)",
   "language": "python",
   "name": "python3"
  },
  "language_info": {
   "codemirror_mode": {
    "name": "ipython",
    "version": 3
   },
   "file_extension": ".py",
   "mimetype": "text/x-python",
   "name": "python",
   "nbconvert_exporter": "python",
   "pygments_lexer": "ipython3",
   "version": "3.11.5"
  }
 },
 "nbformat": 4,
 "nbformat_minor": 5
}
